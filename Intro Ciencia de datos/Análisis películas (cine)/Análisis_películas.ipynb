{
  "nbformat": 4,
  "nbformat_minor": 0,
  "metadata": {
    "kernelspec": {
      "display_name": "Python 3",
      "language": "python",
      "name": "python3"
    },
    "language_info": {
      "codemirror_mode": {
        "name": "ipython",
        "version": 3
      },
      "file_extension": ".py",
      "mimetype": "text/x-python",
      "name": "python",
      "nbconvert_exporter": "python",
      "pygments_lexer": "ipython3",
      "version": "3.7.4"
    },
    "colab": {
      "name": "Análisis películas.ipynb",
      "provenance": [],
      "collapsed_sections": []
    }
  },
  "cells": [
    {
      "cell_type": "markdown",
      "metadata": {
        "id": "o9NKqjGb4Ym3"
      },
      "source": [
        "# Vistazo a películas\n",
        "\n",
        "## David Guzmán"
      ]
    },
    {
      "cell_type": "markdown",
      "metadata": {
        "id": "c7mlD1uw4YnN"
      },
      "source": [
        "\n",
        "Supón que trabajas en una empresa cinematográfica y tu gerente te encargó hacer unos análisis simples de las películas que están disponibles en cartelera. Lo único que tienes a tu disposición es un archivo con información de IMDB que alguien descargó para ti. \n",
        "\n",
        "Tu gerente te pidió que le respondas, de las películas disponibles esta semana:\n",
        "- ¿Cuántas películas hay por clasificación (\"rated\")? \n",
        "- ¿Cuántas actrices/actores estelares hay en total en todas esas películas?¿Hay alguien actuando en más de una película esta semana?\n",
        "- ¿Cuál es el promedio simple y ponderado por votos del `imdb_rating` para las películas en cartelera?\n",
        "- ¿Están relacionados los ratings con el número de votos? Haz una gráfica y saca el coeficiente de correlación\n",
        "\n",
        "También te advirtió que a veces el equipo de programadores no descargan bien la información, así que ten cuidado con el contenido de los archivos que manejas.\n",
        "\n",
        "El archivo que necesitas está en Teams, bájalo ponlo en una carpeta con el mismo nombre `movie_data.json`."
      ]
    },
    {
      "cell_type": "code",
      "metadata": {
        "id": "Cb_Ceg7_9YtT",
        "colab": {
          "base_uri": "https://localhost:8080/"
        },
        "outputId": "cdffa297-2a14-4b7d-badf-e98b40405187"
      },
      "source": [
        "# Sólo haz esto si estás usando google colab\n",
        "from google.colab import drive\n",
        "drive.mount('/content/drive/')\n",
        "import os\n",
        "os.chdir(\"/content/drive/MyDrive\")\n"
      ],
      "execution_count": null,
      "outputs": [
        {
          "output_type": "stream",
          "text": [
            "Drive already mounted at /content/drive/; to attempt to forcibly remount, call drive.mount(\"/content/drive/\", force_remount=True).\n"
          ],
          "name": "stdout"
        }
      ]
    },
    {
      "cell_type": "code",
      "metadata": {
        "id": "UGrsUi9y4YnO"
      },
      "source": [
        "import json\n",
        "import matplotlib.pyplot as plt\n",
        "%matplotlib inline"
      ],
      "execution_count": null,
      "outputs": []
    },
    {
      "cell_type": "code",
      "metadata": {
        "scrolled": true,
        "id": "3Rh6FFtB4YnQ"
      },
      "source": [
        "## Corre esto para abrir el archivo con la información de películas\n",
        "with open(\"/content/movie_data.json\", 'r') as f:\n",
        "    d = json.load(f)"
      ],
      "execution_count": null,
      "outputs": []
    },
    {
      "cell_type": "code",
      "metadata": {
        "id": "7mP2E4ov4YnQ"
      },
      "source": [
        "d"
      ],
      "execution_count": null,
      "outputs": []
    },
    {
      "cell_type": "markdown",
      "metadata": {
        "id": "uxDz0JGWKCyf"
      },
      "source": [
        "# Primera pregunta\n",
        "- ¿Cuántas películas hay por clasificación (\"rated\") ?\n",
        "- Genera una gráfica que muestra en orden ascendente o descendente el número de pelicular por valor \"rated\""
      ]
    },
    {
      "cell_type": "code",
      "metadata": {
        "id": "fMX3lEUI4YnR"
      },
      "source": [
        "def cuenta_por_clasificacion(d):\n",
        "    '''\n",
        "    calcula la cuenta de peliculas de cada clasificación\n",
        "    \n",
        "    input:\n",
        "    d, un diccionario con la informacion de las películas \n",
        "    descargada de IMDB\n",
        "    \n",
        "    output:\n",
        "    clasificaciones, un diccionario con tipos de clasificación\n",
        "    como llaves y la cuenta de películas de cada clasificación\n",
        "    como valor, ej:{\"R\": 12, \"PG-13\":5}\n",
        "    '''\n",
        "    clasificaciones = {}\n",
        "\n",
        "    for i in d:\n",
        "        value = d.get(i).get('rated')\n",
        "        if value is not None:\n",
        "            if value in clasificaciones:\n",
        "                clasificaciones[value] += 1\n",
        "            else:\n",
        "                clasificaciones[value] = 1\n",
        "\n",
        "    return clasificaciones\n",
        "\n",
        "def ordena_diccionario(datos_dict, descendente=True):\n",
        "    \"\"\"\n",
        "    Toma un diccionario y genera una lista con categorias y una lista con valores\n",
        "    en el orden que se determina. Por ejemplo, de este diccionario:\n",
        "\n",
        "    {\"A\": 1, \"B\": 5, \"C\": 3, \"D\", 2}\n",
        "\n",
        "    se generarían dos listas\n",
        "\n",
        "    ordered_clasifs = [\"B\", \"C\", \"D\", \"A\"]\n",
        "    ordered_values = [5,3,2,1]\n",
        "\n",
        "    input: \n",
        "    datos: Un diccionario de datos\n",
        "    descendente: un booleano que indica si es descendente o ascendente el orden\n",
        "    \n",
        "    ouput:\n",
        "    ordered_clasifs\n",
        "    ordered_values \n",
        "    \"\"\"\n",
        "    #your code here\n",
        "\n",
        "    lista = sorted(list(datos_dict.items()), key = lambda x: x[1], reverse = descendente)\n",
        "    ordered_clasifs = []\n",
        "    ordered_values = []\n",
        "    \n",
        "    for i in lista:\n",
        "        ordered_clasifs.append(i[0])\n",
        "        ordered_values.append(i[1])\n",
        "\n",
        "\n",
        "    return ordered_clasifs, ordered_values\n",
        "\n",
        "def grafica_datos(datos, descendente):\n",
        "    \"\"\"\n",
        "    grafica datos\n",
        "    \n",
        "    input:\n",
        "    datos, un diccionario con valores k, v donde\n",
        "    v es una cuenta y k son ciertos nombres. \n",
        "    P.ej.: {\"R\": 12, \"PG-13\":5}\n",
        "    ascendente, un booleano para identificar si queremos\n",
        "    graficar en orden ascendente o descendente\n",
        "    \"\"\"\n",
        "    listas = ordena_diccionario(datos, descendente)\n",
        "    ordered_clasifs = listas[0]\n",
        "    ordered_values = listas[1]\n",
        "    # https://matplotlib.org/3.1.1/gallery/ticks_and_spines/custom_ticker1.html#sphx-glr-gallery-ticks-and-spines-custom-ticker1-py\n",
        "    x_vals = range(1,len(ordered_values)+1)\n",
        "    plt.bar(x_vals, ordered_values)\n",
        "    plt.xticks(x_vals, ordered_clasifs)\n",
        "    plt.xlabel(\"Clasificación\")\n",
        "    plt.ylabel(\"cuenta\")\n",
        "    plt.show()"
      ],
      "execution_count": null,
      "outputs": []
    },
    {
      "cell_type": "code",
      "metadata": {
        "id": "U2o3GWpw4YnS",
        "colab": {
          "base_uri": "https://localhost:8080/",
          "height": 297
        },
        "outputId": "2e161757-d879-4524-9af3-b08d5b4437a0"
      },
      "source": [
        "clasifs = cuenta_por_clasificacion(d)\n",
        "print(clasifs)\n",
        "grafica_datos(clasifs, descendente=True)"
      ],
      "execution_count": null,
      "outputs": [
        {
          "output_type": "stream",
          "text": [
            "{'PG': 4, 'N/A': 11, 'PG-13': 5, 'R': 6, 'Not Rated': 3, 'TV-14': 1, 'G': 1}\n"
          ],
          "name": "stdout"
        },
        {
          "output_type": "display_data",
          "data": {
            "image/png": "[encoded data removed]",
            "text/plain": [
              "<Figure size 432x288 with 1 Axes>"
            ]
          },
          "metadata": {
            "tags": [],
            "needs_background": "light"
          }
        }
      ]
    },
    {
      "cell_type": "markdown",
      "metadata": {
        "id": "cdMuycBCKQqg"
      },
      "source": [
        "# Segunda pregunta\n",
        "- ¿Cuántas actrices/actores estelares hay en total en todas esas películas?\n",
        "- Primero completa la función que cuenta en cuantas películas sale cada actor/actriz, luego completa la función que sólo filtra los que salen en más de x peliculas"
      ]
    },
    {
      "cell_type": "code",
      "metadata": {
        "id": "rMJvnhLz4YnT"
      },
      "source": [
        "def cuenta_por_acts(d):\n",
        "    '''\n",
        "    calcula la cuenta de peliculas que protagoniza un actor\n",
        "    \n",
        "    input:\n",
        "    d, un diccionario con la informacion de las películas \n",
        "        descargada de IMDB\n",
        "    \n",
        "    output:\n",
        "    clasificaciones, un diccionario con nombres de actrices/actores\n",
        "        como llaves y la cuenta de películas que protagonizan como valor\n",
        "        P.ej:{'K.J. Apa': 1, 'Britt Robertson': 1,...}\n",
        "    '''\n",
        "    acts = {}\n",
        "   \n",
        "    for i in d:\n",
        "        value = d.get(i).get('actors')\n",
        "        if value is not None:\n",
        "            actores = value.split(', ')\n",
        "            for actor in actores:\n",
        "                if actor in acts:\n",
        "                    acts[actor] += 1\n",
        "                else:\n",
        "                    acts[actor] = 1\n",
        "\n",
        "    return acts\n",
        "\n",
        "def mas_de_x_peliculas(d, x):\n",
        "    '''\n",
        "    verifica los actores que aparecen en mas de x peliculas\n",
        "    \n",
        "    input:\n",
        "    d, un diccionario con actores y su cuenta de peliculas \n",
        "        protagonizadas\n",
        "    \n",
        "    output:\n",
        "    x, el número de películas minimo para considerar en el output\n",
        "    output:\n",
        "    Regresa una lista sólo con los nombres de actores/actrices con \n",
        "    más de x películas\n",
        "    '''\n",
        "    lista = [i for i in d if d.get(i) > x]\n",
        "\n",
        "    return lista\n",
        "\n"
      ],
      "execution_count": null,
      "outputs": []
    },
    {
      "cell_type": "code",
      "metadata": {
        "id": "sDbcmOAs4YnU",
        "colab": {
          "base_uri": "https://localhost:8080/"
        },
        "outputId": "7a150025-22e3-486e-dea3-aa6078e776e1"
      },
      "source": [
        "d_by_act = cuenta_por_acts(d)\n",
        "mas_de_x_peliculas(d_by_act, 1)"
      ],
      "execution_count": null,
      "outputs": [
        {
          "output_type": "execute_result",
          "data": {
            "text/plain": [
              "['Daniel Radcliffe']"
            ]
          },
          "metadata": {
            "tags": []
          },
          "execution_count": 244
        }
      ]
    },
    {
      "cell_type": "markdown",
      "metadata": {
        "id": "bktpuyHBKhaF"
      },
      "source": [
        "# Tercera pregunta\n",
        "- Cuál es el promedio simple del `imdb_rating` para las películas en cartelera, y el promedio ponderado por el número de votos?\n",
        "- Si el valor del rating es \"N/A\", omite esa película para el promedio"
      ]
    },
    {
      "cell_type": "code",
      "metadata": {
        "id": "fpFM25kg4YnV"
      },
      "source": [
        "def promedio_rating(d, ponderado=True):\n",
        "    '''\n",
        "    calcula promedio simple o ponderado\n",
        "\n",
        "    input:\n",
        "    d, un diccionario con la informacion de las películas \n",
        "        descargada de IMDB\n",
        "    ponderado, un booleano si se pondera o no el promedio\n",
        "    \n",
        "    output:\n",
        "    avg_rating, promedio final \n",
        "    '''\n",
        "    tot_rating = 0\n",
        "    tot_movies = 0\n",
        "    tot_votes = 0\n",
        "    tot_rating_by_votes = 0\n",
        "\n",
        "    rating = []\n",
        "    votes = []\n",
        "    for movie in d.values():\n",
        "        \n",
        "        imdb_rating = movie.get(\"imdb_rating\", None)\n",
        "        imdb_votes  = movie.get(\"imdb_votes\", None)\n",
        "        rating.append(imdb_rating)\n",
        "        votes.append(imdb_votes)\n",
        "        #print (imdb_rating, imdb_votes)\n",
        "\n",
        "    lista = ['N/A', None]  \n",
        "\n",
        "    rating = list(filter(lambda x: x not in lista, rating))\n",
        "    votes = list(filter(lambda x: x not in lista, votes))\n",
        "\n",
        "    rating = [float(i) for i in rating]\n",
        "    votes = [int(i.replace(',','')) for i in votes]\n",
        "\n",
        "    if ponderado:\n",
        "        for i in range(len(rating)):\n",
        "            tot_rating_by_votes += rating[i] * votes[i]\n",
        "            tot_votes += votes[i]\n",
        "        \n",
        "        avg_rating = tot_rating_by_votes / tot_votes\n",
        "    \n",
        "    else:\n",
        "        tot_movies = len(rating)\n",
        "        for i in range(tot_movies):\n",
        "            tot_rating += rating[i]  \n",
        "        \n",
        "        avg_rating = tot_rating / tot_movies\n",
        "        \n",
        "    return avg_rating"
      ],
      "execution_count": null,
      "outputs": []
    },
    {
      "cell_type": "code",
      "metadata": {
        "id": "0pDCzlND4YnV",
        "colab": {
          "base_uri": "https://localhost:8080/"
        },
        "outputId": "083af454-bac3-4663-9ec2-6f77751bb8f5"
      },
      "source": [
        "print(\"Ponderado:\", round(promedio_rating(d), 6))\n",
        "print(\"No ponderado:\", round(promedio_rating(d, ponderado=False), 6))"
      ],
      "execution_count": null,
      "outputs": [
        {
          "output_type": "stream",
          "text": [
            "Ponderado: 6.724887\n",
            "No ponderado: 5.989286\n"
          ],
          "name": "stdout"
        }
      ]
    },
    {
      "cell_type": "markdown",
      "metadata": {
        "id": "mlwBHlUQLDGb"
      },
      "source": [
        "# Cuarta Pregunta\n",
        "Obten el índice de correlación entre dos variables"
      ]
    },
    {
      "cell_type": "code",
      "metadata": {
        "id": "CcIYINiG4YnW"
      },
      "source": [
        "def is_valid(value):\n",
        "    '''\n",
        "    This is a helper function to define if a dict value is valid.\n",
        "    Return False if the value is:\n",
        "    - \"N/A\", \"na\"\n",
        "    - the value None\n",
        "    - an empty string\n",
        "    Otherwise, return False\n",
        "    '''\n",
        "    if value == 'N/A':\n",
        "        return False\n",
        "    if value is None:\n",
        "        return False\n",
        "    return True\n",
        "\n",
        "def correlacion(d, value_a, value_b):\n",
        "    \"\"\"\n",
        "    calcula coeficiente de correlación\n",
        "    \n",
        "    input:\n",
        "    d, un diccionario con la informacion de las películas \n",
        "        descargada de IMDB\n",
        "    value_a/b, strings que indican los valores del diccionarios para los que quieres calcular el índice\n",
        "   \n",
        "    output:\n",
        "    pearsonr, coeficiente de correlación\n",
        "    Puedes usar:\n",
        "    https://docs.scipy.org/doc/scipy-0.14.0/reference/generated/scipy.stats.pearsonr.html\n",
        "    \n",
        "    \"\"\"\n",
        "    from scipy.stats import pearsonr\n",
        "    values_a = []\n",
        "    values_b = []\n",
        "\n",
        "    for movie in d.values():\n",
        "        imdb_rating = movie.get(value_a, None)\n",
        "        imdb_votes  = movie.get(value_b, None)\n",
        "        values_a.append(imdb_rating)\n",
        "        values_b.append(imdb_votes)\n",
        "    \n",
        "    values_a = list(filter(is_valid, values_a))\n",
        "    values_b = list(filter(is_valid, values_b))\n",
        "\n",
        "    values_a = [float(i) for i in values_a]\n",
        "    values_b = [int(i.replace(',','')) for i in values_b]\n",
        "   \n",
        "    \n",
        "    return pearsonr(values_a, values_b)[0]\n",
        "\n"
      ],
      "execution_count": null,
      "outputs": []
    },
    {
      "cell_type": "code",
      "metadata": {
        "colab": {
          "base_uri": "https://localhost:8080/"
        },
        "id": "AkuWGGFylPZe",
        "outputId": "8b107622-3a01-432a-e608-5d744bc7dde8"
      },
      "source": [
        "correlacion(d, \"imdb_rating\",\"imdb_votes\")"
      ],
      "execution_count": null,
      "outputs": [
        {
          "output_type": "execute_result",
          "data": {
            "text/plain": [
              "0.44693018350630465"
            ]
          },
          "metadata": {
            "tags": []
          },
          "execution_count": 249
        }
      ]
    }
  ]
}